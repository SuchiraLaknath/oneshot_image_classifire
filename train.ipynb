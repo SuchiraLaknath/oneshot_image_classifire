{
 "cells": [
  {
   "cell_type": "code",
   "execution_count": 104,
   "metadata": {},
   "outputs": [],
   "source": [
    "import torch\n",
    "from models.Resnet50_model import Model\n",
    "from torch.utils.data import DataLoader\n",
    "from torchvision.datasets import ImageFolder\n",
    "from torchvision import transforms\n",
    "import torch.nn as nn\n",
    "import os"
   ]
  },
  {
   "cell_type": "code",
   "execution_count": 105,
   "metadata": {},
   "outputs": [],
   "source": [
    "device = \"cuda\" if torch.cuda.is_available() else \"cpu\"\n",
    "transform = transforms.Compose([transforms.ToTensor(),\n",
    "                                transforms.Resize((224,224))])\n",
    "model = Model().to(device=device)\n",
    "loss_function = nn.CrossEntropyLoss().to(device=device)\n",
    "\n"
   ]
  },
  {
   "cell_type": "code",
   "execution_count": 106,
   "metadata": {},
   "outputs": [],
   "source": [
    "BATCH_SIZE = 16\n",
    "TRAIN_RATIO = 0.8\n",
    "VAL_RATIO = 1.0 - TRAIN_RATIO\n",
    "LEARNING_RATE = 0.001\n",
    "EPOCHS = 10\n",
    "SAVE_PATH = './saved_models/resnet50_attempt_01'\n",
    "NUM_CLASSES = 90\n"
   ]
  },
  {
   "cell_type": "code",
   "execution_count": 107,
   "metadata": {},
   "outputs": [],
   "source": [
    "# Set up the optimizer\n",
    "optimizer = torch.optim.Adam(model.parameters(), lr=0.001)"
   ]
  },
  {
   "cell_type": "code",
   "execution_count": 108,
   "metadata": {},
   "outputs": [],
   "source": [
    "dataset = ImageFolder('./data/animals/animals/', transform= transform)"
   ]
  },
  {
   "cell_type": "code",
   "execution_count": 109,
   "metadata": {},
   "outputs": [],
   "source": [
    "train_set, val_set = torch.utils.data.random_split(dataset, [TRAIN_RATIO, VAL_RATIO])"
   ]
  },
  {
   "cell_type": "code",
   "execution_count": 110,
   "metadata": {},
   "outputs": [],
   "source": [
    "train_dataloader = DataLoader(dataset=train_set, batch_size= BATCH_SIZE, shuffle= True, num_workers= 2)\n",
    "val_dataloader = DataLoader(dataset= val_set, batch_size= BATCH_SIZE, shuffle= False, num_workers= 1)"
   ]
  },
  {
   "cell_type": "code",
   "execution_count": 111,
   "metadata": {},
   "outputs": [],
   "source": [
    "def train(model, train_dataloader, optimizer, loss_function, device):\n",
    "    print(\"--Training Step--\")\n",
    "    running_loss = 0.0\n",
    "    correct_predictions = 0\n",
    "    total_predictions = 0\n",
    "    model.train()\n",
    "    for i , (x, y) in enumerate(train_dataloader):\n",
    "        x = x.to(device)\n",
    "        y = y.to(device)\n",
    "        \n",
    "        \n",
    "        outputs = model(x)\n",
    "        _, predicted = torch.max(outputs, 1)\n",
    "        loss = loss_function(outputs, y)\n",
    "        optimizer.zero_grad()\n",
    "        loss.backward()\n",
    "        optimizer.step()\n",
    "        running_loss += loss.item()\n",
    "        #print(f\"loss = {loss.item()}\")\n",
    "        total_predictions += y.size(0)\n",
    "        correct_predictions += predicted.eq(y).sum().item()\n",
    "    epoch_avg_loss = running_loss/len(train_dataloader)\n",
    "    epoch_accuracy = correct_predictions / total_predictions\n",
    "    print(f\"train loss = {epoch_avg_loss} , train_Accuracy = {epoch_accuracy}\")\n",
    "    return model\n"
   ]
  },
  {
   "cell_type": "code",
   "execution_count": 112,
   "metadata": {},
   "outputs": [],
   "source": [
    "def val(model, val_dataloader, loss_function, device):\n",
    "    print(\"--Validation Step--\")\n",
    "    model.eval()\n",
    "    val_running_loss = 0.0\n",
    "    val_correct_predictions = 0\n",
    "    val_total_predictions = 0\n",
    "    for j , (val_x, val_y) in enumerate(val_dataloader):\n",
    "        x = x.to(device)\n",
    "        y = y.to(device)\n",
    "        \n",
    "        with torch.inference_mode():\n",
    "            val_outputs = model(val_x)\n",
    "            _, val_predicted = torch.max(val_outputs, 1)\n",
    "            val_loss = loss_function(val_outputs, val_y)\n",
    "            val_running_loss += val_loss.item()\n",
    "            val_total_predictions = len(val_outputs)\n",
    "            val_total_predictions += val_y.size(0)\n",
    "            val_correct_predictions += val_predicted.eq(val_y).sum().item()\n",
    "    val_epoch_avg_loss = (val_running_loss/float(j+1))\n",
    "    val_epoch_accuracy = val_correct_predictions / val_total_predictions\n",
    "    print(f\"val loss = {val_epoch_avg_loss} , VAL_Accuracy = {val_epoch_accuracy}\")"
   ]
  },
  {
   "cell_type": "code",
   "execution_count": 114,
   "metadata": {},
   "outputs": [
    {
     "name": "stdout",
     "output_type": "stream",
     "text": [
      "--Training Step--\n",
      "loss = 7.814908981323242\n",
      "loss = 7.13454532623291\n"
     ]
    },
    {
     "ename": "KeyboardInterrupt",
     "evalue": "",
     "output_type": "error",
     "traceback": [
      "\u001b[1;31m---------------------------------------------------------------------------\u001b[0m",
      "\u001b[1;31mKeyboardInterrupt\u001b[0m                         Traceback (most recent call last)",
      "\u001b[1;32mc:\\Users\\Suchira\\Documents\\My Projects\\oneshot_image_classifire\\train.ipynb Cell 10\u001b[0m in \u001b[0;36m<cell line: 1>\u001b[1;34m()\u001b[0m\n\u001b[0;32m      <a href='vscode-notebook-cell:/c%3A/Users/Suchira/Documents/My%20Projects/oneshot_image_classifire/train.ipynb#X11sZmlsZQ%3D%3D?line=0'>1</a>\u001b[0m \u001b[39mfor\u001b[39;00m epoch \u001b[39min\u001b[39;00m \u001b[39mrange\u001b[39m(EPOCHS):\n\u001b[1;32m----> <a href='vscode-notebook-cell:/c%3A/Users/Suchira/Documents/My%20Projects/oneshot_image_classifire/train.ipynb#X11sZmlsZQ%3D%3D?line=1'>2</a>\u001b[0m     model \u001b[39m=\u001b[39m train(model \u001b[39m=\u001b[39;49m model, train_dataloader\u001b[39m=\u001b[39;49m train_dataloader, optimizer \u001b[39m=\u001b[39;49m optimizer, loss_function \u001b[39m=\u001b[39;49m loss_function, device\u001b[39m=\u001b[39;49m device)\n\u001b[0;32m      <a href='vscode-notebook-cell:/c%3A/Users/Suchira/Documents/My%20Projects/oneshot_image_classifire/train.ipynb#X11sZmlsZQ%3D%3D?line=3'>4</a>\u001b[0m     torch\u001b[39m.\u001b[39msave(model\u001b[39m.\u001b[39mstate_dict(), os\u001b[39m.\u001b[39mpath\u001b[39m.\u001b[39mjoin(SAVE_PATH, \u001b[39mstr\u001b[39m(\u001b[39mf\u001b[39m\u001b[39m'\u001b[39m\u001b[39mresnet50_model_epoch_\u001b[39m\u001b[39m{\u001b[39;00mepoch\u001b[39m+\u001b[39m\u001b[39m1\u001b[39m\u001b[39m}\u001b[39;00m\u001b[39m'\u001b[39m)))\n",
      "\u001b[1;32mc:\\Users\\Suchira\\Documents\\My Projects\\oneshot_image_classifire\\train.ipynb Cell 10\u001b[0m in \u001b[0;36mtrain\u001b[1;34m(model, train_dataloader, optimizer, loss_function, device)\u001b[0m\n\u001b[0;32m     <a href='vscode-notebook-cell:/c%3A/Users/Suchira/Documents/My%20Projects/oneshot_image_classifire/train.ipynb#X11sZmlsZQ%3D%3D?line=13'>14</a>\u001b[0m loss \u001b[39m=\u001b[39m loss_function(outputs, y)\n\u001b[0;32m     <a href='vscode-notebook-cell:/c%3A/Users/Suchira/Documents/My%20Projects/oneshot_image_classifire/train.ipynb#X11sZmlsZQ%3D%3D?line=14'>15</a>\u001b[0m optimizer\u001b[39m.\u001b[39mzero_grad()\n\u001b[1;32m---> <a href='vscode-notebook-cell:/c%3A/Users/Suchira/Documents/My%20Projects/oneshot_image_classifire/train.ipynb#X11sZmlsZQ%3D%3D?line=15'>16</a>\u001b[0m loss\u001b[39m.\u001b[39;49mbackward()\n\u001b[0;32m     <a href='vscode-notebook-cell:/c%3A/Users/Suchira/Documents/My%20Projects/oneshot_image_classifire/train.ipynb#X11sZmlsZQ%3D%3D?line=16'>17</a>\u001b[0m optimizer\u001b[39m.\u001b[39mstep()\n\u001b[0;32m     <a href='vscode-notebook-cell:/c%3A/Users/Suchira/Documents/My%20Projects/oneshot_image_classifire/train.ipynb#X11sZmlsZQ%3D%3D?line=17'>18</a>\u001b[0m running_loss \u001b[39m+\u001b[39m\u001b[39m=\u001b[39m loss\u001b[39m.\u001b[39mitem()\n",
      "File \u001b[1;32mc:\\Users\\Suchira\\anaconda3\\envs\\research\\lib\\site-packages\\torch\\_tensor.py:487\u001b[0m, in \u001b[0;36mTensor.backward\u001b[1;34m(self, gradient, retain_graph, create_graph, inputs)\u001b[0m\n\u001b[0;32m    477\u001b[0m \u001b[39mif\u001b[39;00m has_torch_function_unary(\u001b[39mself\u001b[39m):\n\u001b[0;32m    478\u001b[0m     \u001b[39mreturn\u001b[39;00m handle_torch_function(\n\u001b[0;32m    479\u001b[0m         Tensor\u001b[39m.\u001b[39mbackward,\n\u001b[0;32m    480\u001b[0m         (\u001b[39mself\u001b[39m,),\n\u001b[1;32m   (...)\u001b[0m\n\u001b[0;32m    485\u001b[0m         inputs\u001b[39m=\u001b[39minputs,\n\u001b[0;32m    486\u001b[0m     )\n\u001b[1;32m--> 487\u001b[0m torch\u001b[39m.\u001b[39;49mautograd\u001b[39m.\u001b[39;49mbackward(\n\u001b[0;32m    488\u001b[0m     \u001b[39mself\u001b[39;49m, gradient, retain_graph, create_graph, inputs\u001b[39m=\u001b[39;49minputs\n\u001b[0;32m    489\u001b[0m )\n",
      "File \u001b[1;32mc:\\Users\\Suchira\\anaconda3\\envs\\research\\lib\\site-packages\\torch\\autograd\\__init__.py:200\u001b[0m, in \u001b[0;36mbackward\u001b[1;34m(tensors, grad_tensors, retain_graph, create_graph, grad_variables, inputs)\u001b[0m\n\u001b[0;32m    195\u001b[0m     retain_graph \u001b[39m=\u001b[39m create_graph\n\u001b[0;32m    197\u001b[0m \u001b[39m# The reason we repeat same the comment below is that\u001b[39;00m\n\u001b[0;32m    198\u001b[0m \u001b[39m# some Python versions print out the first line of a multi-line function\u001b[39;00m\n\u001b[0;32m    199\u001b[0m \u001b[39m# calls in the traceback and some print out the last line\u001b[39;00m\n\u001b[1;32m--> 200\u001b[0m Variable\u001b[39m.\u001b[39;49m_execution_engine\u001b[39m.\u001b[39;49mrun_backward(  \u001b[39m# Calls into the C++ engine to run the backward pass\u001b[39;49;00m\n\u001b[0;32m    201\u001b[0m     tensors, grad_tensors_, retain_graph, create_graph, inputs,\n\u001b[0;32m    202\u001b[0m     allow_unreachable\u001b[39m=\u001b[39;49m\u001b[39mTrue\u001b[39;49;00m, accumulate_grad\u001b[39m=\u001b[39;49m\u001b[39mTrue\u001b[39;49;00m)\n",
      "\u001b[1;31mKeyboardInterrupt\u001b[0m: "
     ]
    }
   ],
   "source": [
    "for epoch in range(EPOCHS):\n",
    "    model = train(model = model.clone(), train_dataloader= train_dataloader, optimizer = optimizer, loss_function = loss_function, device= device)\n",
    "    val(model= model, val_dataloader= val_dataloader, loss_function = loss_function, device= device)\n",
    "    torch.save(model.state_dict(), os.path.join(SAVE_PATH, str(f'resnet50_model_epoch_{epoch+1}')))"
   ]
  },
  {
   "cell_type": "code",
   "execution_count": null,
   "metadata": {},
   "outputs": [],
   "source": []
  }
 ],
 "metadata": {
  "kernelspec": {
   "display_name": "research",
   "language": "python",
   "name": "python3"
  },
  "language_info": {
   "codemirror_mode": {
    "name": "ipython",
    "version": 3
   },
   "file_extension": ".py",
   "mimetype": "text/x-python",
   "name": "python",
   "nbconvert_exporter": "python",
   "pygments_lexer": "ipython3",
   "version": "3.8.0"
  },
  "orig_nbformat": 4
 },
 "nbformat": 4,
 "nbformat_minor": 2
}
